{
  "nbformat": 4,
  "nbformat_minor": 0,
  "metadata": {
    "colab": {
      "provenance": [],
      "include_colab_link": true
    },
    "kernelspec": {
      "name": "python3",
      "display_name": "Python 3"
    },
    "language_info": {
      "name": "python"
    }
  },
  "cells": [
    {
      "cell_type": "markdown",
      "metadata": {
        "id": "view-in-github",
        "colab_type": "text"
      },
      "source": [
        "<a href=\"https://colab.research.google.com/github/De-Las-Alas/OOP-58001/blob/main/Fundamentals_of_Python.ipynb\" target=\"_parent\"><img src=\"https://colab.research.google.com/assets/colab-badge.svg\" alt=\"Open In Colab\"/></a>"
      ]
    },
    {
      "cell_type": "markdown",
      "source": [
        "Fundamentals of Python"
      ],
      "metadata": {
        "id": "Y6TKLspuXb7w"
      }
    },
    {
      "cell_type": "code",
      "source": [
        "if 5 > 2:\n",
        "  print(\"Five is greater than two!\")"
      ],
      "metadata": {
        "colab": {
          "base_uri": "https://localhost:8080/"
        },
        "id": "0_EAhCcsXfF4",
        "outputId": "b341e11b-08d1-427f-b801-9be6ee6a117d"
      },
      "execution_count": null,
      "outputs": [
        {
          "output_type": "stream",
          "name": "stdout",
          "text": [
            "Five is greater than two!\n"
          ]
        }
      ]
    },
    {
      "cell_type": "markdown",
      "source": [
        "Python Comment"
      ],
      "metadata": {
        "id": "PuQ3NM1mXrNR"
      }
    },
    {
      "cell_type": "code",
      "source": [
        "#this is a comment\n",
        "print(\"Hello World!\")"
      ],
      "metadata": {
        "colab": {
          "base_uri": "https://localhost:8080/"
        },
        "id": "kjOW3oK3Xthh",
        "outputId": "14067343-23cd-4afc-f390-581282e99dac"
      },
      "execution_count": null,
      "outputs": [
        {
          "output_type": "stream",
          "name": "stdout",
          "text": [
            "Hello World!\n"
          ]
        }
      ]
    },
    {
      "cell_type": "markdown",
      "source": [
        "Python Variable"
      ],
      "metadata": {
        "id": "nYDgYUj2XzIh"
      }
    },
    {
      "cell_type": "code",
      "source": [
        "#Single variable with multiple values\n",
        "array = [1,2,3]\n",
        "print(array)\n",
        "\n",
        "#Multiple variables with single value\n",
        "a= b= c= \"Maria\"\n",
        "print(a)\n",
        "print(b)\n",
        "print(c)\n",
        "print(a,b,c)"
      ],
      "metadata": {
        "colab": {
          "base_uri": "https://localhost:8080/"
        },
        "id": "1xTaBXHWX4MR",
        "outputId": "9e917dbd-a416-48a0-9a87-a4e535bea0af"
      },
      "execution_count": null,
      "outputs": [
        {
          "output_type": "stream",
          "name": "stdout",
          "text": [
            "[1, 2, 3]\n",
            "Maria\n",
            "Maria\n",
            "Maria\n",
            "Maria Maria Maria\n"
          ]
        }
      ]
    },
    {
      "cell_type": "markdown",
      "source": [
        "Casting"
      ],
      "metadata": {
        "id": "1GGYojyaYSjZ"
      }
    },
    {
      "cell_type": "code",
      "source": [
        "b = \"Sally\" #This is a type of string\n",
        "b = int(4)\n",
        "print(b)\n",
        "\n",
        "b = float(4)\n",
        "print(b)"
      ],
      "metadata": {
        "colab": {
          "base_uri": "https://localhost:8080/"
        },
        "id": "QoQlOwYmYTc4",
        "outputId": "6fd0d0f3-e3f5-4c4b-98e0-ac5d11dd59f5"
      },
      "execution_count": 1,
      "outputs": [
        {
          "output_type": "stream",
          "name": "stdout",
          "text": [
            "4\n",
            "4.0\n"
          ]
        }
      ]
    },
    {
      "cell_type": "markdown",
      "source": [
        "Type() Function"
      ],
      "metadata": {
        "id": "sm9Cu5u4YcNf"
      }
    },
    {
      "cell_type": "code",
      "source": [
        "c= \"sally\"\n",
        "d= 5.6\n",
        "\n",
        "print(type(c))\n",
        "print(type(d))"
      ],
      "metadata": {
        "colab": {
          "base_uri": "https://localhost:8080/"
        },
        "id": "n79YB6n6YftP",
        "outputId": "96263305-73ec-4b46-f72e-1b6a669c5933"
      },
      "execution_count": null,
      "outputs": [
        {
          "output_type": "stream",
          "name": "stdout",
          "text": [
            "<class 'str'>\n",
            "<class 'float'>\n"
          ]
        }
      ]
    },
    {
      "cell_type": "markdown",
      "source": [
        "\"Double Quotes\" or 'Single Quotes'"
      ],
      "metadata": {
        "id": "orMCvK7bGgb4"
      }
    },
    {
      "cell_type": "code",
      "source": [
        "y = \"John\"\n",
        "x = 'john'\n",
        "\n",
        "print(y)\n",
        "print(x)"
      ],
      "metadata": {
        "id": "wRQo65QHGui2",
        "outputId": "64662db0-77c3-44df-d225-899b556b08a9",
        "colab": {
          "base_uri": "https://localhost:8080/"
        }
      },
      "execution_count": 2,
      "outputs": [
        {
          "output_type": "stream",
          "name": "stdout",
          "text": [
            "John\n",
            "john\n"
          ]
        }
      ]
    },
    {
      "cell_type": "markdown",
      "source": [
        "Case Sensitive"
      ],
      "metadata": {
        "id": "Qpr6eIUlG6vb"
      }
    },
    {
      "cell_type": "code",
      "source": [
        "a = 4\n",
        "A = \"Sally\"\n",
        "#A will not overwrite a\n",
        "print(a)"
      ],
      "metadata": {
        "id": "idP3Wi-WG9dn",
        "outputId": "52557da6-47e4-4644-eb47-bdc86ab5e2ef",
        "colab": {
          "base_uri": "https://localhost:8080/"
        }
      },
      "execution_count": 3,
      "outputs": [
        {
          "output_type": "stream",
          "name": "stdout",
          "text": [
            "4\n"
          ]
        }
      ]
    },
    {
      "cell_type": "markdown",
      "source": [
        "Output Variables"
      ],
      "metadata": {
        "id": "tCbxrJpvHW1T"
      }
    },
    {
      "cell_type": "code",
      "source": [
        "#the python print is used to out put variables and + is used to combine both text and variable\n",
        "x = \"fun!\"\n",
        "print(\"Python programming is \" + x)\n",
        "\n",
        "z = \"Python is \"\n",
        "print(z+x)"
      ],
      "metadata": {
        "id": "tkxaqoZpHY0_",
        "outputId": "b1449b91-d368-4b59-b30b-71416d6279cb",
        "colab": {
          "base_uri": "https://localhost:8080/"
        }
      },
      "execution_count": 6,
      "outputs": [
        {
          "output_type": "stream",
          "name": "stdout",
          "text": [
            "Python programming is fun!\n",
            "Python is fun!\n"
          ]
        }
      ]
    },
    {
      "cell_type": "markdown",
      "source": [
        "Arithmetic Operations"
      ],
      "metadata": {
        "id": "8x-CbFgHINON"
      }
    },
    {
      "cell_type": "code",
      "source": [
        "x = 5\n",
        "y = 3\n",
        "print(x+y)\n",
        "\n",
        "sum=x+y\n",
        "\n",
        "sum"
      ],
      "metadata": {
        "id": "16giCRU7IO-J",
        "outputId": "2bf94e2e-b535-4ea1-a263-ebe7faa3fad0",
        "colab": {
          "base_uri": "https://localhost:8080/"
        }
      },
      "execution_count": 8,
      "outputs": [
        {
          "output_type": "stream",
          "name": "stdout",
          "text": [
            "8\n"
          ]
        },
        {
          "output_type": "execute_result",
          "data": {
            "text/plain": [
              "8"
            ]
          },
          "metadata": {},
          "execution_count": 8
        }
      ]
    },
    {
      "cell_type": "markdown",
      "source": [
        "Assignment Operators"
      ],
      "metadata": {
        "id": "n2FrhLJ6Ijma"
      }
    },
    {
      "cell_type": "code",
      "source": [
        "a, b, c = 0, -1, 6\n",
        "c %= 3\n",
        "c"
      ],
      "metadata": {
        "id": "JTyUEns2Imay",
        "outputId": "4cf7e0b4-59e8-44ba-98e8-ef93feca7394",
        "colab": {
          "base_uri": "https://localhost:8080/"
        }
      },
      "execution_count": 9,
      "outputs": [
        {
          "output_type": "execute_result",
          "data": {
            "text/plain": [
              "0"
            ]
          },
          "metadata": {},
          "execution_count": 9
        }
      ]
    },
    {
      "cell_type": "markdown",
      "source": [
        "Comparison & Logical Operators"
      ],
      "metadata": {
        "id": "T8-icvW5I2fF"
      }
    },
    {
      "cell_type": "code",
      "source": [
        "a, b, c = 0, -1, 6\n",
        "a > b and c > b\n",
        "True"
      ],
      "metadata": {
        "id": "Rz9dR4FgI5Q6",
        "outputId": "1efe21fd-4ddb-4573-c2e7-f54ce20b23ba",
        "colab": {
          "base_uri": "https://localhost:8080/"
        }
      },
      "execution_count": 10,
      "outputs": [
        {
          "output_type": "execute_result",
          "data": {
            "text/plain": [
              "True"
            ]
          },
          "metadata": {},
          "execution_count": 10
        }
      ]
    },
    {
      "cell_type": "markdown",
      "source": [
        "Identity Operators"
      ],
      "metadata": {
        "id": "9JJ_XgmdJNVe"
      }
    },
    {
      "cell_type": "code",
      "source": [
        "a, b, c = 0, -1, 5\n",
        "a is c\n",
        "False"
      ],
      "metadata": {
        "id": "0lgzuPzSJPGr",
        "outputId": "79af2f1d-2886-4910-8fdb-c0e1571ad8f0",
        "colab": {
          "base_uri": "https://localhost:8080/"
        }
      },
      "execution_count": 11,
      "outputs": [
        {
          "output_type": "execute_result",
          "data": {
            "text/plain": [
              "False"
            ]
          },
          "metadata": {},
          "execution_count": 11
        }
      ]
    },
    {
      "cell_type": "markdown",
      "source": [
        "Input Numerical Method"
      ],
      "metadata": {
        "id": "0Q58OWieaEwM"
      }
    },
    {
      "cell_type": "code",
      "source": [
        "n= input (int())\n",
        "print(n)"
      ],
      "metadata": {
        "colab": {
          "base_uri": "https://localhost:8080/"
        },
        "id": "sFLczO-IaHqM",
        "outputId": "d73da6c6-82f2-4bb8-b121-36f74a83213a"
      },
      "execution_count": null,
      "outputs": [
        {
          "output_type": "stream",
          "name": "stdout",
          "text": [
            "012\n",
            "12\n"
          ]
        }
      ]
    }
  ]
}
