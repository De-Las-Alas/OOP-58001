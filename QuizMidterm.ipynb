{
  "nbformat": 4,
  "nbformat_minor": 0,
  "metadata": {
    "colab": {
      "provenance": [],
      "authorship_tag": "ABX9TyOwhI1HsS+nD+DVf0SVdM24",
      "include_colab_link": true
    },
    "kernelspec": {
      "name": "python3",
      "display_name": "Python 3"
    },
    "language_info": {
      "name": "python"
    }
  },
  "cells": [
    {
      "cell_type": "markdown",
      "metadata": {
        "id": "view-in-github",
        "colab_type": "text"
      },
      "source": [
        "<a href=\"https://colab.research.google.com/github/De-Las-Alas/OOP-58001/blob/main/QuizMidterm.ipynb\" target=\"_parent\"><img src=\"https://colab.research.google.com/assets/colab-badge.svg\" alt=\"Open In Colab\"/></a>"
      ]
    },
    {
      "cell_type": "code",
      "source": [
        "class DistanceConversion:\n",
        "  def __init__(self, meter):\n",
        "    self.__meter = meter\n",
        "  def meter2centim(self):\n",
        "    return float(self.__meter*100)\n",
        "  def meter2kilom(self):\n",
        "    return float(self.__meter/1000)\n",
        "  def meter2inch(self):\n",
        "    return float(self.__meter*29.37)\n",
        "  def display(self):\n",
        "    print(self.__meter, \"in meters is\", self.meter2centim(), \"in centimeters,\", self.meter2kilom(), \"in kilometers, and\", self.meter2inch(), \"in inches.\" )\n",
        "\n",
        "distance = DistanceConversion(float(input(\"Input distance in meters: \")))\n",
        "distance.display()"
      ],
      "metadata": {
        "colab": {
          "base_uri": "https://localhost:8080/"
        },
        "id": "bBAZLhwLcb6M",
        "outputId": "976e5112-090e-4501-b489-48e424d032ac"
      },
      "execution_count": 5,
      "outputs": [
        {
          "output_type": "stream",
          "name": "stdout",
          "text": [
            "Input distance in meters: 60\n",
            "60.0 in meters is 6000.0 in centimeters, 0.06 in kilometers, and 1762.2 in inches.\n"
          ]
        }
      ]
    }
  ]
}