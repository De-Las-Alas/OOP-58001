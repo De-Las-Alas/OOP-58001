{
  "nbformat": 4,
  "nbformat_minor": 0,
  "metadata": {
    "colab": {
      "provenance": [],
      "authorship_tag": "ABX9TyNgw+MN4YV36Gz55vtZCQ5+",
      "include_colab_link": true
    },
    "kernelspec": {
      "name": "python3",
      "display_name": "Python 3"
    },
    "language_info": {
      "name": "python"
    }
  },
  "cells": [
    {
      "cell_type": "markdown",
      "metadata": {
        "id": "view-in-github",
        "colab_type": "text"
      },
      "source": [
        "<a href=\"https://colab.research.google.com/github/De-Las-Alas/OOP-58001/blob/main/Lab_Activity_2.ipynb\" target=\"_parent\"><img src=\"https://colab.research.google.com/assets/colab-badge.svg\" alt=\"Open In Colab\"/></a>"
      ]
    },
    {
      "cell_type": "code",
      "execution_count": 3,
      "metadata": {
        "colab": {
          "base_uri": "https://localhost:8080/"
        },
        "id": "ipsZ4naT6mfO",
        "outputId": "7894fad9-b319-4c14-c500-b6990e193cf5"
      },
      "outputs": [
        {
          "output_type": "stream",
          "name": "stdout",
          "text": [
            "Enter a radius: 6\n",
            "The area of the circle is 113.04 and the its perimeter is 37.68 .\n"
          ]
        }
      ],
      "source": [
        "class Circle:\n",
        "  def __init__(self,radius): #initial function to name attributes\n",
        "    self.radius = radius\n",
        "\n",
        "  def area(self): #method/formula to compuate the area of a circle\n",
        "    return 3.14*(self.radius**2)\n",
        "\n",
        "  def perimeter(self): #method/formula to compute the perimeter of a circle\n",
        "    return 2*(3.14*self.radius)\n",
        "\n",
        "  def display(self): #method to display\n",
        "    print(\"The area of the circle is\",self.area(),\"and the its perimeter is\",self.perimeter(),\".\")\n",
        "\n",
        "circle = Circle(int(input(\"Enter a radius: \"))) #input\n",
        "circle.display()"
      ]
    }
  ]
}