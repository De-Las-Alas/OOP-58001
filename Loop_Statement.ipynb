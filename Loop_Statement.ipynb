{
  "nbformat": 4,
  "nbformat_minor": 0,
  "metadata": {
    "colab": {
      "provenance": [],
      "authorship_tag": "ABX9TyPz+N1FT0A1HFxg1pTSPo7v",
      "include_colab_link": true
    },
    "kernelspec": {
      "name": "python3",
      "display_name": "Python 3"
    },
    "language_info": {
      "name": "python"
    }
  },
  "cells": [
    {
      "cell_type": "markdown",
      "metadata": {
        "id": "view-in-github",
        "colab_type": "text"
      },
      "source": [
        "<a href=\"https://colab.research.google.com/github/De-Las-Alas/OOP-58001/blob/main/Loop_Statement.ipynb\" target=\"_parent\"><img src=\"https://colab.research.google.com/assets/colab-badge.svg\" alt=\"Open In Colab\"/></a>"
      ]
    },
    {
      "cell_type": "markdown",
      "source": [
        "Looping Control Statement - #insert defenition here"
      ],
      "metadata": {
        "id": "zX62Y_fHX3Bv"
      }
    },
    {
      "cell_type": "markdown",
      "source": [
        "For Loop"
      ],
      "metadata": {
        "id": "Hv66vLDsZHj5"
      }
    },
    {
      "cell_type": "code",
      "execution_count": null,
      "metadata": {
        "colab": {
          "base_uri": "https://localhost:8080/"
        },
        "id": "IXhS3P2sXuxD",
        "outputId": "3e7cc849-2551-46fd-dfe6-c22711e37e06"
      },
      "outputs": [
        {
          "output_type": "stream",
          "name": "stdout",
          "text": [
            "Sunday\n",
            "Monday\n",
            "Teusday\n",
            "Wednesday\n",
            "Thursday\n",
            "Friday\n",
            "Saturday\n"
          ]
        }
      ],
      "source": [
        "week_to_an_adventist = [\"Sunday\", \"Monday\", \"Teusday\", \"Wednesday\", \"Thursday\", \"Friday\", \"Saturday\"]\n",
        "for x in week_to_an_adventist: print(x)"
      ]
    },
    {
      "cell_type": "markdown",
      "source": [
        "Break Statement"
      ],
      "metadata": {
        "id": "WtdI1um7X2IH"
      }
    },
    {
      "cell_type": "code",
      "source": [
        "week_to_an_adventist = [\"Sunday\", \"Monday\", \"Teusday\", \"Wednesday\", \"Thursday\", \"Friday\", \"Saturday\"]\n",
        "for x in week_to_an_adventist:\n",
        "  print(x)\n",
        "  if x == \"Thursday\":\n",
        "    break"
      ],
      "metadata": {
        "colab": {
          "base_uri": "https://localhost:8080/"
        },
        "id": "31h4kxOGZPDR",
        "outputId": "7520167a-ad95-424e-b33d-dd3601d4d566"
      },
      "execution_count": null,
      "outputs": [
        {
          "output_type": "stream",
          "name": "stdout",
          "text": [
            "Sunday\n",
            "Monday\n",
            "Teusday\n",
            "Wednesday\n",
            "Thursday\n"
          ]
        }
      ]
    },
    {
      "cell_type": "markdown",
      "source": [
        "Break Statement single output"
      ],
      "metadata": {
        "id": "uq-D70osa4ye"
      }
    },
    {
      "cell_type": "code",
      "source": [
        "week_to_an_adventist = [\"Sunday\", \"Monday\", \"Teusday\", \"Wednesday\", \"Thursday\", \"Friday\", \"Saturday\"]\n",
        "for x in week_to_an_adventist:\n",
        "  if x == \"Thursday\":\n",
        "    print(x)\n",
        "    break"
      ],
      "metadata": {
        "colab": {
          "base_uri": "https://localhost:8080/"
        },
        "id": "-bt-c_8Fa9tV",
        "outputId": "5eadbe3d-37fd-42f3-bfc5-0bf74eb5705d"
      },
      "execution_count": null,
      "outputs": [
        {
          "output_type": "stream",
          "name": "stdout",
          "text": [
            "Thursday\n"
          ]
        }
      ]
    },
    {
      "cell_type": "markdown",
      "source": [
        "Break Statement stopper condition"
      ],
      "metadata": {
        "id": "QnOiM_55cV09"
      }
    },
    {
      "cell_type": "code",
      "source": [
        "week_to_an_adventist = [\"Sunday\", \"Monday\", \"Teusday\", \"Wednesday\", \"Thursday\", \"Friday\", \"Saturday\"]\n",
        "for x in week_to_an_adventist:\n",
        "  if x == \"Thursday\":\n",
        "    break\n",
        "  print(x)"
      ],
      "metadata": {
        "colab": {
          "base_uri": "https://localhost:8080/"
        },
        "id": "6B00E_lCcdTN",
        "outputId": "10622648-e349-4d2d-a8f4-74bef1cb6f84"
      },
      "execution_count": null,
      "outputs": [
        {
          "output_type": "stream",
          "name": "stdout",
          "text": [
            "Sunday\n",
            "Monday\n",
            "Teusday\n",
            "Wednesday\n"
          ]
        }
      ]
    },
    {
      "cell_type": "markdown",
      "source": [
        "Break statement two outputs"
      ],
      "metadata": {
        "id": "ECJs6ipGc99l"
      }
    },
    {
      "cell_type": "code",
      "source": [
        "week_to_an_adventist = [\"Sunday\", \"Monday\", \"Teusday\", \"Wednesday\", \"Thursday\", \"Friday\", \"Saturday\"]\n",
        "for x in week_to_an_adventist:\n",
        "  if x == \"Teusday\":\n",
        "    print(x)\n",
        "  if x == \"Wednesday\":\n",
        "    print(x)\n",
        "    break"
      ],
      "metadata": {
        "colab": {
          "base_uri": "https://localhost:8080/"
        },
        "id": "_Ngj8MiAdD7U",
        "outputId": "1270f21f-1d5b-4ca1-d614-992c5f49eee6"
      },
      "execution_count": null,
      "outputs": [
        {
          "output_type": "stream",
          "name": "stdout",
          "text": [
            "Teusday\n",
            "Wednesday\n"
          ]
        }
      ]
    },
    {
      "cell_type": "markdown",
      "source": [
        "Loop through a string"
      ],
      "metadata": {
        "id": "zaXC1QTjeDLe"
      }
    },
    {
      "cell_type": "code",
      "source": [
        "for x in \"REUBEN JONN DE LAS ALAS\":\n",
        "    print(x)"
      ],
      "metadata": {
        "colab": {
          "base_uri": "https://localhost:8080/"
        },
        "id": "4qB6euKYeFkv",
        "outputId": "ef939d1d-164a-49c6-f0b2-df73f56575d9"
      },
      "execution_count": null,
      "outputs": [
        {
          "output_type": "stream",
          "name": "stdout",
          "text": [
            "R\n",
            "E\n",
            "U\n",
            "B\n",
            "E\n",
            "N\n",
            " \n",
            "J\n",
            "O\n",
            "N\n",
            "N\n",
            " \n",
            "D\n",
            "E\n",
            " \n",
            "L\n",
            "A\n",
            "S\n",
            " \n",
            "A\n",
            "L\n",
            "A\n",
            "S\n"
          ]
        }
      ]
    },
    {
      "cell_type": "markdown",
      "source": [
        "Nested Loop"
      ],
      "metadata": {
        "id": "T6amXmqpeiuE"
      }
    },
    {
      "cell_type": "code",
      "source": [
        "adjective = [\"red\", \"big\", \"tasty\"]\n",
        "fruits = [\"cherry\", \"melons\", \"peach\"]\n",
        "\n",
        "for x in adjective:\n",
        "  for y in fruits:\n",
        "    print(x,y)"
      ],
      "metadata": {
        "colab": {
          "base_uri": "https://localhost:8080/"
        },
        "id": "IDbirdoJekKm",
        "outputId": "66808d25-e3f5-4a37-9de3-5d560d66713a"
      },
      "execution_count": null,
      "outputs": [
        {
          "output_type": "stream",
          "name": "stdout",
          "text": [
            "red cherry\n",
            "red melons\n",
            "red peach\n",
            "big cherry\n",
            "big melons\n",
            "big peach\n",
            "tasty cherry\n",
            "tasty melons\n",
            "tasty peach\n"
          ]
        }
      ]
    },
    {
      "cell_type": "code",
      "source": [
        "#Dungeons & Dragons Alignment version\n",
        "Line = [\"Lawful\", \"Neutral\", \"Chaotic\"]\n",
        "Process = [\"Good\", \"Neutral\", \"Evil\"]\n",
        "\n",
        "for x in Line:\n",
        "  for y in Process:\n",
        "    print(x,y)"
      ],
      "metadata": {
        "colab": {
          "base_uri": "https://localhost:8080/"
        },
        "id": "_My1X42ofVtn",
        "outputId": "1bfdb318-3d6d-4ee8-a4a7-aceb16419d32"
      },
      "execution_count": null,
      "outputs": [
        {
          "output_type": "stream",
          "name": "stdout",
          "text": [
            "Lawful Good\n",
            "Lawful Neutral\n",
            "Lawful Evil\n",
            "Neutral Good\n",
            "Neutral Neutral\n",
            "Neutral Evil\n",
            "Chaotic Good\n",
            "Chaotic Neutral\n",
            "Chaotic Evil\n"
          ]
        }
      ]
    },
    {
      "cell_type": "markdown",
      "source": [
        "While Loop"
      ],
      "metadata": {
        "id": "QamOoor0gJuR"
      }
    },
    {
      "cell_type": "code",
      "source": [
        "i = 1\n",
        "while i < 6:\n",
        "  print(i)\n",
        "  i += 1 #i = i+1 assignment operator"
      ],
      "metadata": {
        "colab": {
          "base_uri": "https://localhost:8080/"
        },
        "id": "zv9NdOePgLRY",
        "outputId": "8ab4f804-3aac-4a0b-8965-f0f1f8500dda"
      },
      "execution_count": null,
      "outputs": [
        {
          "output_type": "stream",
          "name": "stdout",
          "text": [
            "1\n",
            "2\n",
            "3\n",
            "4\n",
            "5\n"
          ]
        }
      ]
    },
    {
      "cell_type": "code",
      "source": [
        "i = 1\n",
        "while i <= 6: #while i is less than or equal to 6\n",
        "  print(i)\n",
        "  i += 1 #i = i+1 assignment operator"
      ],
      "metadata": {
        "colab": {
          "base_uri": "https://localhost:8080/"
        },
        "id": "Ycb7Uj9QgoHo",
        "outputId": "afad5ab3-6f7b-49b5-dcfd-d737d1e0c361"
      },
      "execution_count": null,
      "outputs": [
        {
          "output_type": "stream",
          "name": "stdout",
          "text": [
            "1\n",
            "2\n",
            "3\n",
            "4\n",
            "5\n",
            "6\n"
          ]
        }
      ]
    },
    {
      "cell_type": "code",
      "source": [],
      "metadata": {
        "id": "v0MfzVpyg0oY"
      },
      "execution_count": null,
      "outputs": []
    },
    {
      "cell_type": "code",
      "source": [
        "i = 1\n",
        "while i < 6:\n",
        "  i += 1 #i = i+1 assignment operator\n",
        "  print(i) #will start from 2 and end at 6"
      ],
      "metadata": {
        "colab": {
          "base_uri": "https://localhost:8080/"
        },
        "id": "uMhU6Siyg2Co",
        "outputId": "98959363-53b5-49d8-94f3-93423d26ac49"
      },
      "execution_count": null,
      "outputs": [
        {
          "output_type": "stream",
          "name": "stdout",
          "text": [
            "2\n",
            "3\n",
            "4\n",
            "5\n",
            "6\n"
          ]
        }
      ]
    },
    {
      "cell_type": "markdown",
      "source": [
        "While loop om break statement"
      ],
      "metadata": {
        "id": "2cVKhbyhhKJo"
      }
    },
    {
      "cell_type": "code",
      "source": [
        "i = 1\n",
        "while 1 < 6:\n",
        "  print(i) #prints first before incrementation\n",
        "  if i == 3: #checks if condition is met before breaking or incrementing\n",
        "    break #if met, breaks instead of incrementation\n",
        "  i += 1"
      ],
      "metadata": {
        "colab": {
          "base_uri": "https://localhost:8080/"
        },
        "id": "8wFg9kBjhNG4",
        "outputId": "f488dbd5-4e9c-463e-9089-6fe33acfce42"
      },
      "execution_count": null,
      "outputs": [
        {
          "output_type": "stream",
          "name": "stdout",
          "text": [
            "1\n",
            "2\n",
            "3\n"
          ]
        }
      ]
    },
    {
      "cell_type": "code",
      "source": [
        "#condition = singular out put\n",
        "i = 1\n",
        "while 1 < 6:\n",
        "  if i == 3: #checks if condition is met before printing, then breaking or incrementing\n",
        "    print(i) #prints upon condition being met\n",
        "    break #if met, breaks instead of incrementation\n",
        "  i += 1 #process is not shown"
      ],
      "metadata": {
        "colab": {
          "base_uri": "https://localhost:8080/"
        },
        "id": "41h5cqE5h8PQ",
        "outputId": "c12e0f01-720e-48f6-d02d-fd5facda2bfe"
      },
      "execution_count": null,
      "outputs": [
        {
          "output_type": "stream",
          "name": "stdout",
          "text": [
            "3\n"
          ]
        }
      ]
    },
    {
      "cell_type": "markdown",
      "source": [
        "while else statement"
      ],
      "metadata": {
        "id": "B7vs2dSJi0tC"
      }
    },
    {
      "cell_type": "code",
      "source": [
        "i = 1\n",
        "while i < 6:\n",
        "  print(i) #will start from 2 and end at 6\n",
        "  i += 1 #i = i+1 assignment operator\n",
        "else:\n",
        "  print(\"i is no longer less than 6\")\n"
      ],
      "metadata": {
        "colab": {
          "base_uri": "https://localhost:8080/"
        },
        "id": "zmYs9Dpcip1L",
        "outputId": "d319e30c-6245-4559-baca-cc97bf9422e7"
      },
      "execution_count": null,
      "outputs": [
        {
          "output_type": "stream",
          "name": "stdout",
          "text": [
            "1\n",
            "2\n",
            "3\n",
            "4\n",
            "5\n",
            "i is no longer less than 6\n"
          ]
        }
      ]
    },
    {
      "cell_type": "markdown",
      "source": [
        "Application #1\n",
        "\n",
        "Display 0 to 10 with \"Hello #\" repeat"
      ],
      "metadata": {
        "id": "CXnmcc2wjct0"
      }
    },
    {
      "cell_type": "code",
      "source": [
        "i = 0\n",
        "while i <= 10:\n",
        "  print(\"Hello \", i)\n",
        "  i += 1"
      ],
      "metadata": {
        "colab": {
          "base_uri": "https://localhost:8080/"
        },
        "id": "oInJ27gajmoz",
        "outputId": "32a519c2-a816-4916-dc58-8dd52dc4d424"
      },
      "execution_count": null,
      "outputs": [
        {
          "output_type": "stream",
          "name": "stdout",
          "text": [
            "Hello  0\n",
            "Hello  1\n",
            "Hello  2\n",
            "Hello  3\n",
            "Hello  4\n",
            "Hello  5\n",
            "Hello  6\n",
            "Hello  7\n",
            "Hello  8\n",
            "Hello  9\n",
            "Hello  10\n"
          ]
        }
      ]
    },
    {
      "cell_type": "code",
      "source": [
        "#other take; longer\n",
        "greet = [\"Hello\"]\n",
        "number = [0,1,2,3,4,5,6,7,8,9,10]\n",
        "\n",
        "for x in greet:\n",
        "  for y in number:\n",
        "    print(x,y)"
      ],
      "metadata": {
        "colab": {
          "base_uri": "https://localhost:8080/"
        },
        "id": "QaYDOGdAk8PK",
        "outputId": "dd4193a1-668b-42be-8549-a9892548af8d"
      },
      "execution_count": null,
      "outputs": [
        {
          "output_type": "stream",
          "name": "stdout",
          "text": [
            "Hello 0\n",
            "Hello 1\n",
            "Hello 2\n",
            "Hello 3\n",
            "Hello 4\n",
            "Hello 5\n",
            "Hello 6\n",
            "Hello 7\n",
            "Hello 8\n",
            "Hello 9\n",
            "Hello 10\n"
          ]
        }
      ]
    },
    {
      "cell_type": "markdown",
      "source": [
        "Application #2\n",
        "display 3 - 9 via loop"
      ],
      "metadata": {
        "id": "xvEVwA-2kHu7"
      }
    },
    {
      "cell_type": "code",
      "source": [
        "i = 3\n",
        "while i < 10:\n",
        "  print(i)\n",
        "  i += 1"
      ],
      "metadata": {
        "colab": {
          "base_uri": "https://localhost:8080/"
        },
        "id": "ete_StgSkLBq",
        "outputId": "7fb1504e-1a27-4056-ac84-497b21386c47"
      },
      "execution_count": null,
      "outputs": [
        {
          "output_type": "stream",
          "name": "stdout",
          "text": [
            "3\n",
            "4\n",
            "5\n",
            "6\n",
            "7\n",
            "8\n",
            "9\n"
          ]
        }
      ]
    },
    {
      "cell_type": "code",
      "source": [
        "i = [3,4,5,6,7,8,9]\n",
        "for x in i:\n",
        "  print(x)"
      ],
      "metadata": {
        "colab": {
          "base_uri": "https://localhost:8080/"
        },
        "id": "cBs7N-dUle_M",
        "outputId": "4844162a-e0fc-47a4-c887-843d1884c52e"
      },
      "execution_count": null,
      "outputs": [
        {
          "output_type": "stream",
          "name": "stdout",
          "text": [
            "3\n",
            "4\n",
            "5\n",
            "6\n",
            "7\n",
            "8\n",
            "9\n"
          ]
        }
      ]
    },
    {
      "cell_type": "markdown",
      "source": [
        "Range()function"
      ],
      "metadata": {
        "id": "OSzNX7__HtST"
      }
    },
    {
      "cell_type": "code",
      "source": [
        "#one index for range\n",
        "for x in range(6):\n",
        "  print(x)"
      ],
      "metadata": {
        "colab": {
          "base_uri": "https://localhost:8080/"
        },
        "id": "jjX6j7FXHwHz",
        "outputId": "5327927c-489f-4036-ac9b-5b85f4165697"
      },
      "execution_count": 2,
      "outputs": [
        {
          "output_type": "stream",
          "name": "stdout",
          "text": [
            "0\n",
            "1\n",
            "2\n",
            "3\n",
            "4\n",
            "5\n"
          ]
        }
      ]
    },
    {
      "cell_type": "code",
      "source": [
        "#with starting index and increment\n",
        "for x in range(2,6):\n",
        "  print(x)"
      ],
      "metadata": {
        "colab": {
          "base_uri": "https://localhost:8080/"
        },
        "id": "lm_XfBcqIHvE",
        "outputId": "824af666-e0fb-4580-caf3-3855c5edf394"
      },
      "execution_count": 3,
      "outputs": [
        {
          "output_type": "stream",
          "name": "stdout",
          "text": [
            "2\n",
            "3\n",
            "4\n",
            "5\n"
          ]
        }
      ]
    },
    {
      "cell_type": "code",
      "source": [
        "#with index, increment, and step\n",
        "for x in range(2,6,2):\n",
        "  print(x)"
      ],
      "metadata": {
        "colab": {
          "base_uri": "https://localhost:8080/"
        },
        "id": "qTZe7BQ9IenF",
        "outputId": "a6f21350-d94a-4012-8e18-b830ddbf12fc"
      },
      "execution_count": 4,
      "outputs": [
        {
          "output_type": "stream",
          "name": "stdout",
          "text": [
            "2\n",
            "4\n"
          ]
        }
      ]
    }
  ]
}