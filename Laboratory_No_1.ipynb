{
  "nbformat": 4,
  "nbformat_minor": 0,
  "metadata": {
    "colab": {
      "provenance": [],
      "authorship_tag": "ABX9TyNkgjPXEH/dXCaymoZOE2ht",
      "include_colab_link": true
    },
    "kernelspec": {
      "name": "python3",
      "display_name": "Python 3"
    },
    "language_info": {
      "name": "python"
    }
  },
  "cells": [
    {
      "cell_type": "markdown",
      "metadata": {
        "id": "view-in-github",
        "colab_type": "text"
      },
      "source": [
        "<a href=\"https://colab.research.google.com/github/De-Las-Alas/OOP-58001/blob/main/Laboratory_No_1.ipynb\" target=\"_parent\"><img src=\"https://colab.research.google.com/assets/colab-badge.svg\" alt=\"Open In Colab\"/></a>"
      ]
    },
    {
      "cell_type": "code",
      "execution_count": 3,
      "metadata": {
        "colab": {
          "base_uri": "https://localhost:8080/"
        },
        "id": "WkxElwcGMQkd",
        "outputId": "626a5e29-463f-4c4f-e0d5-cd52301221d4"
      },
      "outputs": [
        {
          "output_type": "stream",
          "name": "stdout",
          "text": [
            "sum =  210\n",
            "Average =  10.5\n"
          ]
        }
      ],
      "source": [
        "n = 20\n",
        "totalnumbers = n\n",
        "sum = 0\n",
        "average = 0\n",
        "\n",
        "while n > 0:\n",
        "  sum += n\n",
        "  n -= 1\n",
        "\n",
        "else:\n",
        "  print(\"sum = \", sum)\n",
        "\n",
        "average = sum/totalnumbers\n",
        "print(\"Average = \", average)"
      ]
    }
  ]
}