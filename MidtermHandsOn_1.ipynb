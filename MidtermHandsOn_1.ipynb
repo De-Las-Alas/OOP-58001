{
  "nbformat": 4,
  "nbformat_minor": 0,
  "metadata": {
    "colab": {
      "provenance": [],
      "authorship_tag": "ABX9TyPzO6prQCnE5+nGp3UcfrgC",
      "include_colab_link": true
    },
    "kernelspec": {
      "name": "python3",
      "display_name": "Python 3"
    },
    "language_info": {
      "name": "python"
    }
  },
  "cells": [
    {
      "cell_type": "markdown",
      "metadata": {
        "id": "view-in-github",
        "colab_type": "text"
      },
      "source": [
        "<a href=\"https://colab.research.google.com/github/De-Las-Alas/OOP-58001/blob/main/HandsOn_1.ipynb\" target=\"_parent\"><img src=\"https://colab.research.google.com/assets/colab-badge.svg\" alt=\"Open In Colab\"/></a>"
      ]
    },
    {
      "cell_type": "markdown",
      "source": [
        "Polymorphism - allows the use of a single interface with different underlying forms, such as data types or classes. For example, we can have commonly named methods across classes or child classes."
      ],
      "metadata": {
        "id": "SLqJg6aSZMhf"
      }
    },
    {
      "cell_type": "code",
      "execution_count": 4,
      "metadata": {
        "id": "kZTFEXaIZIPi"
      },
      "outputs": [],
      "source": [
        "#EX.\n",
        "class RegularPolygon:\n",
        "  def __init__(self,side):\n",
        "    self.side=side\n",
        "class Square(RegularPolygon):\n",
        "  def area(self):\n",
        "    return self.side * self.side\n",
        "class EquilateralTriangle(RegularPolygon):\n",
        "  def area(self):\n",
        "    return self.side * self.side * 0.433"
      ]
    },
    {
      "cell_type": "markdown",
      "source": [
        "Hand-on #1\n",
        "\n",
        "* create a python program that displays the name of 3 students (Student 1, Student 2, Student 3) and their term grades.\n",
        "* Create a class name Person and attributes std1, std2, std3, pre, mid, fin\n",
        "* Compute the average of each term grade using Grade() method\n",
        "* Information about student's grades must be hidden from others\n",
        "\n",
        "\n",
        "\n"
      ],
      "metadata": {
        "id": "r9b1SmVRahey"
      }
    },
    {
      "cell_type": "code",
      "source": [
        "class Person:\n",
        "  def __init__(self,name,pre,mid,fin):\n",
        "    self._name=name\n",
        "    self.__pre=pre\n",
        "    self.__mid=mid\n",
        "    self.__fin=fin\n",
        "\n",
        "  def Grade(self):\n",
        "    avg = (self.__pre + self.__mid + self.__fin) / 3\n",
        "    return avg\n",
        "    #different attempt at trying to make the grades hidden behind words that only say your current standing\n",
        "    #if avg >= 70 and avg <= 100: print(f\"{self.__name}, PASSED!\")\n",
        "    #elif avg < 70 and avg >= 65: print(f\"{self.__name}, REMEDIAL!\")\n",
        "    #elif avg <= 0 or avg > 100: print(f\"{self.__name}, CODE ERROR!\")\n",
        "    #else: print(f\"{self.__name}, FAILED!\")\n",
        "\n",
        "std1 = Person(\"Student1\",float(input(\"Enter Pre Grade for STD1: \")),float(input(\"Enter Mid Grade for STD1: \")),float(input(\"Enter Fin Grade for STD1: \")))\n",
        "Person.pre = 50\n",
        "Person.mid = 50\n",
        "Person.fin = 50\n",
        "\n",
        "std2 = Person(\"Student2\",float(input(\"Enter Pre Grade for STD2: \")),float(input(\"Enter Mid Grade for STD2: \")),float(input(\"Enter Fin Grade for STD2: \")))\n",
        "Person.pre = 50\n",
        "Person.mid = 50\n",
        "Person.fin = 50\n",
        "\n",
        "std3 = Person(\"Student3\",float(input(\"Enter Pre Grade for STD3: \")),float(input(\"Enter Mid Grade for STD3: \")),float(input(\"Enter Fin Grade for STD3: \")))\n",
        "Person.pre = 50\n",
        "Person.mid = 50\n",
        "Person.fin = 50\n",
        "\n",
        "print(f\"Name: {std1._name} Average Grade: {std1.Grade()}\")\n",
        "print(f\"Name: {std2._name} Average Grade: {std2.Grade()}\")\n",
        "print(f\"Name: {std3._name} Average Grade: {std3.Grade()}\")"
      ],
      "metadata": {
        "colab": {
          "base_uri": "https://localhost:8080/"
        },
        "id": "gfaB5Tm_bBKB",
        "outputId": "b96a00cd-2cca-46a1-ce77-27afd2770aa8"
      },
      "execution_count": 21,
      "outputs": [
        {
          "output_type": "stream",
          "name": "stdout",
          "text": [
            "Enter Pre Grade for STD1: 100\n",
            "Enter Mid Grade for STD1: 100\n",
            "Enter Fin Grade for STD1: 100\n",
            "Enter Pre Grade for STD2: 100\n",
            "Enter Mid Grade for STD2: 100\n",
            "Enter Fin Grade for STD2: 100\n",
            "Enter Pre Grade for STD3: 100\n",
            "Enter Mid Grade for STD3: 100\n",
            "Enter Fin Grade for STD3: 100\n",
            "Name: Student1 Average Grade: 100.0\n",
            "Name: Student2 Average Grade: 100.0\n",
            "Name: Student3 Average Grade: 100.0\n"
          ]
        }
      ]
    }
  ]
}
