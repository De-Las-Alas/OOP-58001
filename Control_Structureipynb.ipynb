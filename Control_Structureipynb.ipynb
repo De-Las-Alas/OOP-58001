{
  "nbformat": 4,
  "nbformat_minor": 0,
  "metadata": {
    "colab": {
      "provenance": [],
      "authorship_tag": "ABX9TyMSAfvATwrdZ8tgrZOz/Vl7",
      "include_colab_link": true
    },
    "kernelspec": {
      "name": "python3",
      "display_name": "Python 3"
    },
    "language_info": {
      "name": "python"
    }
  },
  "cells": [
    {
      "cell_type": "markdown",
      "metadata": {
        "id": "view-in-github",
        "colab_type": "text"
      },
      "source": [
        "<a href=\"https://colab.research.google.com/github/De-Las-Alas/OOP-58001/blob/main/Control_Structureipynb.ipynb\" target=\"_parent\"><img src=\"https://colab.research.google.com/assets/colab-badge.svg\" alt=\"Open In Colab\"/></a>"
      ]
    },
    {
      "cell_type": "markdown",
      "source": [
        "Control structure - is a block of programming analyzesvariables and chooses a direction inwhich to go based on a givenparameters.\n",
        "\n",
        "Types:\n",
        "Equals: a == b, \n",
        "Not Equals: a != b, \n",
        "Less than: a < b, \n",
        "Less than or equal to: a <= b, \n",
        "Greater than: a > b, \n",
        "Greater than or equal to: a >= b"
      ],
      "metadata": {
        "id": "vP34otc6EMaY"
      }
    },
    {
      "cell_type": "markdown",
      "source": [
        "Conditional Statement"
      ],
      "metadata": {
        "id": "W9iORFcqD3Fr"
      }
    },
    {
      "cell_type": "code",
      "source": [
        "a = 12\n",
        "b = 100\n",
        "if b > a: #if statemrnt\n",
        "  print(\"b is greater than a\")\n",
        "elif a==b: #else if statement\n",
        "  print(\"a and b are equal\")\n",
        "else: #else statement\n",
        "  print(\"a is greater than b\")"
      ],
      "metadata": {
        "colab": {
          "base_uri": "https://localhost:8080/"
        },
        "id": "XF5iGXLnD7wo",
        "outputId": "810a808c-5e39-49f6-f8de-9d8be03b20f0"
      },
      "execution_count": 5,
      "outputs": [
        {
          "output_type": "stream",
          "name": "stdout",
          "text": [
            "b is greater than a\n"
          ]
        }
      ]
    },
    {
      "cell_type": "code",
      "source": [
        "a = 12\n",
        "b = 12\n",
        "if b > a: #if statemrnt\n",
        "  print(\"b is greater than a\")\n",
        "elif a==b: #else if statement\n",
        "  print(\"a and b are equal\")\n",
        "else: #else statement\n",
        "  print(\"a is greater than b\")"
      ],
      "metadata": {
        "colab": {
          "base_uri": "https://localhost:8080/"
        },
        "id": "VfN9GElvF7TH",
        "outputId": "4abcf38c-98f0-468a-e2f0-bbb94c097961"
      },
      "execution_count": 6,
      "outputs": [
        {
          "output_type": "stream",
          "name": "stdout",
          "text": [
            "a and b are equal\n"
          ]
        }
      ]
    },
    {
      "cell_type": "code",
      "source": [
        "a = 100\n",
        "b = 12\n",
        "if b > a: #if statemrnt\n",
        "  print(\"b is greater than a\")\n",
        "elif a==b: #else if statement\n",
        "  print(\"a and b are equal\")\n",
        "else: #else statement\n",
        "  print(\"a is greater than b\")"
      ],
      "metadata": {
        "colab": {
          "base_uri": "https://localhost:8080/"
        },
        "id": "5RW9LrU7F9v7",
        "outputId": "78b9d88d-12f0-4db9-d3dc-a34a5aedddca"
      },
      "execution_count": 7,
      "outputs": [
        {
          "output_type": "stream",
          "name": "stdout",
          "text": [
            "a is greater than b\n"
          ]
        }
      ]
    },
    {
      "cell_type": "markdown",
      "source": [
        "Shorthand statements"
      ],
      "metadata": {
        "id": "QzQQz6shGels"
      }
    },
    {
      "cell_type": "code",
      "source": [
        "#short hand if statement\n",
        "a = 120\n",
        "b = 10\n",
        "if a > b: print(\"a is greater than b\")"
      ],
      "metadata": {
        "colab": {
          "base_uri": "https://localhost:8080/"
        },
        "id": "uKxbAmkaGgjQ",
        "outputId": "cf33bbed-c940-4ccb-fda7-b2b5b2a062a3"
      },
      "execution_count": 9,
      "outputs": [
        {
          "output_type": "stream",
          "name": "stdout",
          "text": [
            "a is greater than b\n"
          ]
        }
      ]
    },
    {
      "cell_type": "code",
      "source": [
        "#short hand elif statement\n",
        "a = 2\n",
        "b = 330\n",
        "print(\"A\") if a > b else print(\"B\")"
      ],
      "metadata": {
        "colab": {
          "base_uri": "https://localhost:8080/"
        },
        "id": "khC8JBRaGthj",
        "outputId": "c2e9f506-293e-4b79-ba5d-70cc4fb993a7"
      },
      "execution_count": 10,
      "outputs": [
        {
          "output_type": "stream",
          "name": "stdout",
          "text": [
            "B\n"
          ]
        }
      ]
    },
    {
      "cell_type": "code",
      "source": [
        "#both conditions are true\n",
        "a = 200\n",
        "b = 33\n",
        "c = 500\n",
        "if a > b and c > a:print(\"Both conditions are True\")"
      ],
      "metadata": {
        "colab": {
          "base_uri": "https://localhost:8080/"
        },
        "id": "ijYhqjY2G5bP",
        "outputId": "2140569e-e1ad-44f1-f043-59f75dc7baaf"
      },
      "execution_count": 11,
      "outputs": [
        {
          "output_type": "stream",
          "name": "stdout",
          "text": [
            "Both conditions are True\n"
          ]
        }
      ]
    },
    {
      "cell_type": "code",
      "source": [
        "#one condition is true\n",
        "a = 200\n",
        "b = 33\n",
        "c = 500\n",
        "if a > b or a > c:print(\"At least one of the conditions is True\")"
      ],
      "metadata": {
        "colab": {
          "base_uri": "https://localhost:8080/"
        },
        "id": "AYaVx0hdHMSk",
        "outputId": "f3f953f8-c703-40c1-e3b5-591d244da871"
      },
      "execution_count": 12,
      "outputs": [
        {
          "output_type": "stream",
          "name": "stdout",
          "text": [
            "At least one of the conditions is True\n"
          ]
        }
      ]
    },
    {
      "cell_type": "code",
      "source": [
        "#input comparison\n",
        "x = int(input(\"Enter 1st Number: \"))\n",
        "y = int(input(\"Enter 2nd Number: \"))\n",
        "if x > y:\n",
        "  print(x, \" is greater than \", y)\n",
        "elif y > x:\n",
        "  print(y, \" is greater than \", x)\n",
        "else:\n",
        "  print(\"both values are equal\")"
      ],
      "metadata": {
        "colab": {
          "base_uri": "https://localhost:8080/"
        },
        "id": "zp7TQWakHu-t",
        "outputId": "472600bc-cc72-4e8c-f435-ef7d7b53cb7f"
      },
      "execution_count": 59,
      "outputs": [
        {
          "output_type": "stream",
          "name": "stdout",
          "text": [
            "Enter 1st Number: 40\n",
            "Enter 2nd Number: 30\n",
            "40  is greater than  30\n"
          ]
        }
      ]
    },
    {
      "cell_type": "markdown",
      "source": [
        "Nested If - Executes two different codes dependingupon whether the test expression is true orfalse. It also allows the user to check formultiple condition and execute differentcodes for more than two conditions."
      ],
      "metadata": {
        "id": "jiRPXl7lIr3K"
      }
    },
    {
      "cell_type": "code",
      "source": [
        "#nested if\n",
        "x = 11\n",
        "if x > 10:print(\"Above ten,\")\n",
        "if x > 20:print(\"and also above 20!\")\n",
        "else:print(\"but not above 20.\")\n",
        "\n",
        "#not nested\n",
        "x = 1\n",
        "if x > 10:print(\"Above 10,\")\n",
        "if x > 20:print(\"and also above 20,\")\n",
        "elif x > 10 and x < 20:print(\"but not above 20!\")\n",
        "if x > 30:print(\"and also above 30,\")\n",
        "elif x > 20 and x < 30:print(\"but not above 30!\")\n",
        "if x > 40:print(\"and also above 40,\")\n",
        "elif x > 30 and x < 40:print(\"but not above 20!\")\n",
        "if x > 50:print(\"and also above 50,\")\n",
        "elif x > 40 and x < 50:print(\"but not above 50!\")\n",
        "if x < 10: print(\"Below 10!\")"
      ],
      "metadata": {
        "colab": {
          "base_uri": "https://localhost:8080/"
        },
        "id": "GgR0SWRpIw7D",
        "outputId": "a466ae1e-2933-4d6c-90c0-0c1340486ad4"
      },
      "execution_count": 42,
      "outputs": [
        {
          "output_type": "stream",
          "name": "stdout",
          "text": [
            "Above ten,\n",
            "but not above 20.\n",
            "Below 10!\n"
          ]
        }
      ]
    },
    {
      "cell_type": "code",
      "source": [
        "x = 11\n",
        "if x > 10:print(\"Above ten,\")\n",
        "if x > 20:print(\"and also above 20!\")\n",
        "else:print(\"but not above 20.\")"
      ],
      "metadata": {
        "colab": {
          "base_uri": "https://localhost:8080/"
        },
        "id": "DMQ69NULJwai",
        "outputId": "1368519f-bdd6-482e-cda3-5dc2c0e59a9d"
      },
      "execution_count": 24,
      "outputs": [
        {
          "output_type": "stream",
          "name": "stdout",
          "text": [
            "Above ten,\n",
            "but not above 20.\n"
          ]
        }
      ]
    },
    {
      "cell_type": "markdown",
      "source": [
        "Example 1\n",
        "Write a program that determines if the input age is qualified to vote or not.\n",
        "The qualifying age is 18 years old and above."
      ],
      "metadata": {
        "id": "WC_mZMwBMmKA"
      }
    },
    {
      "cell_type": "code",
      "source": [
        "x = int(input(\"Enter Age: \"))\n",
        "\n",
        "if x < 18:\n",
        "  print(\"You cannot vote yet, please wait until you are 18.\")\n",
        "elif x >= 18:\n",
        "  print(\"You can vote, would you like to do so now?\")"
      ],
      "metadata": {
        "colab": {
          "base_uri": "https://localhost:8080/"
        },
        "id": "xYNylNNJMnb-",
        "outputId": "7439d3bf-8955-4688-8694-8d0ab47e196c"
      },
      "execution_count": 47,
      "outputs": [
        {
          "output_type": "stream",
          "name": "stdout",
          "text": [
            "Enter Age: 20\n",
            "You can vote, would you like to do so now?\n"
          ]
        }
      ]
    },
    {
      "cell_type": "markdown",
      "source": [
        "Example 2 Write a program that determines if the inputnumber is POSITIVE, NEGATIVE, or ZERO."
      ],
      "metadata": {
        "id": "FiCB7dSOPVMw"
      }
    },
    {
      "cell_type": "code",
      "source": [
        "x = float(input(\"Enter Number: \"))\n",
        "if x > 0: print(\"Number is Positive.\")\n",
        "elif x < 0: print(\"Number is Negative.\")\n",
        "else: print(\"Number is Zero!\")"
      ],
      "metadata": {
        "colab": {
          "base_uri": "https://localhost:8080/"
        },
        "id": "gFS6wXLpPcE7",
        "outputId": "715ed6eb-ce9b-43b5-f9b3-5fc17556b93c"
      },
      "execution_count": 50,
      "outputs": [
        {
          "output_type": "stream",
          "name": "stdout",
          "text": [
            "Enter Number: -6\n",
            "Number is Negative.\n"
          ]
        }
      ]
    },
    {
      "cell_type": "markdown",
      "source": [
        "Example 3 Write a program to determine if the grades are:\n",
        "\n",
        "If:grade > = 70 , “Passed”; grade is 65 to 69, “Remedial”; grade > 64 or below, “Failed”\n",
        "\n",
        "note: if grade is a negative number, it will not accepted"
      ],
      "metadata": {
        "id": "Ib7ylZ0fP-xt"
      }
    },
    {
      "cell_type": "code",
      "source": [
        "x = float(input(\"Enter Grade: \"))\n",
        "\n",
        "if x >= 70: print(\"PASSED!\")\n",
        "elif x < 70 and x >= 65: print(\"REMEDIAL!\")\n",
        "elif x < 0: print(\"CODE ERROR!\")\n",
        "else: print(\"FAILED!\")"
      ],
      "metadata": {
        "colab": {
          "base_uri": "https://localhost:8080/"
        },
        "id": "lOxpYWsoQLDb",
        "outputId": "5e4b7a4e-ab81-438f-fb1c-91f05ebac8b2"
      },
      "execution_count": 60,
      "outputs": [
        {
          "output_type": "stream",
          "name": "stdout",
          "text": [
            "Enter Grade: 69.999\n",
            "REMEDIAL!\n"
          ]
        }
      ]
    }
  ]
}