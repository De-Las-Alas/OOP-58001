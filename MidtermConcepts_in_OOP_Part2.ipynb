{
  "nbformat": 4,
  "nbformat_minor": 0,
  "metadata": {
    "colab": {
      "provenance": [],
      "authorship_tag": "ABX9TyOuZPBiT5WcmyL1uvnzKeba",
      "include_colab_link": true
    },
    "kernelspec": {
      "name": "python3",
      "display_name": "Python 3"
    },
    "language_info": {
      "name": "python"
    }
  },
  "cells": [
    {
      "cell_type": "markdown",
      "metadata": {
        "id": "view-in-github",
        "colab_type": "text"
      },
      "source": [
        "<a href=\"https://colab.research.google.com/github/De-Las-Alas/OOP-58001/blob/main/Concepts_in_OOP_Part2.ipynb\" target=\"_parent\"><img src=\"https://colab.research.google.com/assets/colab-badge.svg\" alt=\"Open In Colab\"/></a>"
      ]
    },
    {
      "cell_type": "code",
      "execution_count": 3,
      "metadata": {
        "colab": {
          "base_uri": "https://localhost:8080/"
        },
        "id": "kMev_YhRWZ1G",
        "outputId": "3cca4261-4754-4b49-ac03-69eebc4dd7fc"
      },
      "outputs": [
        {
          "output_type": "stream",
          "name": "stdout",
          "text": [
            "Griffon Vulture flies above clouds.\n",
            "Common Crane flies above clouds.\n",
            "Emu is the national bird of the Philippines\n"
          ]
        }
      ],
      "source": [
        "#Class with multiple Objects\n",
        "class Birds:\n",
        "  def __init__(self,bird_name):\n",
        "    self.bird_name = bird_name\n",
        "  def flying_birds(self):\n",
        "    print(f\"{self.bird_name} flies above clouds.\")\n",
        "  def non_flying_birds(self):\n",
        "    print(f\"{self.bird_name} is the national bird of the Philippines\")\n",
        "\n",
        "vulture = Birds(\"Griffon Vulture\")\n",
        "crane = Birds(\"Common Crane\")\n",
        "emu = Birds(\"Emu\")\n",
        "\n",
        "vulture.flying_birds()\n",
        "crane.flying_birds()\n",
        "emu.non_flying_birds()"
      ]
    },
    {
      "cell_type": "markdown",
      "source": [
        "Encapsulation - process of combining or bundling data and methods that work on that data within one unit, like a class in Java. We often often use this concept to hide an object’s internal representation or state from the outside. This is called information hiding."
      ],
      "metadata": {
        "id": "Natyjk0TYtmA"
      }
    },
    {
      "cell_type": "code",
      "source": [
        "#Example of Encapsulation\n",
        "class foo:\n",
        "  def __init__(self,a,b):\n",
        "    self.__a = a #adding double underscore will prevent podification of value\n",
        "    self.__b = b\n",
        "  def add(self):\n",
        "    return self.__a + self.__b\n",
        "\n",
        "foo_object = foo(3,4)\n",
        "foo_object.add()\n",
        "foo_object.a = 5\n",
        "foo_object.add()"
      ],
      "metadata": {
        "colab": {
          "base_uri": "https://localhost:8080/"
        },
        "id": "FSmjsdxNY_xY",
        "outputId": "1edc8327-32de-490e-a00e-49905626a63a"
      },
      "execution_count": 13,
      "outputs": [
        {
          "output_type": "execute_result",
          "data": {
            "text/plain": [
              "7"
            ]
          },
          "metadata": {},
          "execution_count": 13
        }
      ]
    },
    {
      "cell_type": "code",
      "source": [
        "#Example of Encapsulation\n",
        "class foo:\n",
        "  def __init__(self,a,b):\n",
        "    self.a = a\n",
        "    self.b = b\n",
        "  def add(self):\n",
        "    return self.a + self.b\n",
        "\n",
        "foo_object = foo(3,4)\n",
        "foo_object.add()\n",
        "foo_object.a = 5 #if there is no double underscare before the variable, it can be changed\n",
        "foo_object.add()"
      ],
      "metadata": {
        "colab": {
          "base_uri": "https://localhost:8080/"
        },
        "id": "o9WqgpFJbgId",
        "outputId": "07d677ab-3edd-4ab0-8be2-98e3e5fb4548"
      },
      "execution_count": 14,
      "outputs": [
        {
          "output_type": "execute_result",
          "data": {
            "text/plain": [
              "9"
            ]
          },
          "metadata": {},
          "execution_count": 14
        }
      ]
    },
    {
      "cell_type": "code",
      "source": [
        "class Counter:\n",
        "  def __init__(self):\n",
        "    self.__current = 0\n",
        "\n",
        "  def increment(self):\n",
        "    self.__current += 1\n",
        "\n",
        "  def value(self):\n",
        "    return self.__current\n",
        "\n",
        "  def reset(self):\n",
        "    self.__current = 0\n",
        "\n",
        "  def display(self):\n",
        "    print(f\"{self.__current} is the current value.\")\n",
        "\n",
        "Counter_object = Counter()\n",
        "Counter_object.increment()\n",
        "Counter_object.display()\n",
        "Counter_object.reset()\n",
        "Counter_object.display()"
      ],
      "metadata": {
        "colab": {
          "base_uri": "https://localhost:8080/"
        },
        "id": "TqJSJk-Zb8CV",
        "outputId": "5e985c58-bab1-4132-db29-cdf0527846ad"
      },
      "execution_count": 31,
      "outputs": [
        {
          "output_type": "stream",
          "name": "stdout",
          "text": [
            "1 is the current value.\n",
            "0 is the current value.\n"
          ]
        }
      ]
    },
    {
      "cell_type": "markdown",
      "source": [
        "Inheritance - When a class derives from another class. The child class will inherit all the public and protected properties and methods from the parent class. In addition, it can have its own properties and methods. An inherited class is defined by using the extends keyword."
      ],
      "metadata": {
        "id": "5Eaa1bTSfAaj"
      }
    },
    {
      "cell_type": "code",
      "source": [
        "class Person:\n",
        "  def __init__(self,name,birthdate):\n",
        "    self.name = name\n",
        "    self.birthdate = birthdate\n",
        "  def display(self):\n",
        "    print(f\"My name is, {self.name}\")\n",
        "    print(f\"I was born in {self.birthdate}\")\n",
        "class Student(Person):\n",
        "  pass\n",
        "class Teacher(Person):\n",
        "  pass\n",
        "\n",
        "student = Person(str(input(\"Who are you?: \")),str(input(\"When were you born? (Use numbers only): \")))\n",
        "student.display()\n",
        "teacher = Person(str(input(\"Who are you?: \")),str(input(\"When were you born? (Use numbers only): \")))\n",
        "teacher.display()"
      ],
      "metadata": {
        "colab": {
          "base_uri": "https://localhost:8080/"
        },
        "id": "I-9zy2Efe_jc",
        "outputId": "740eafea-2459-4087-a44c-08a1bcd34b12"
      },
      "execution_count": 37,
      "outputs": [
        {
          "output_type": "stream",
          "name": "stdout",
          "text": [
            "Who are you?: Jonn\n",
            "When were you born? (Use numbers only): June 2 2003\n",
            "My name is, Jonn\n",
            "I was born in June 2 2003\n",
            "Who are you?: Ace\n",
            "When were you born? (Use numbers only): secret\n",
            "My name is, Ace\n",
            "I was born in secret\n"
          ]
        }
      ]
    },
    {
      "cell_type": "markdown",
      "source": [
        "Creat a class name Shapes (5 shapes):\n",
        "*   attribute sides\n",
        "*   create a function/method that displays the no. of sides of each shape\n",
        "*   apply inheritance and encapsulation\n",
        "\n",
        "\n",
        "\n",
        "\n"
      ],
      "metadata": {
        "id": "wpqwPRhyhEKT"
      }
    },
    {
      "cell_type": "code",
      "source": [
        "class Shapes:\n",
        "  def __init__(self,name,side):\n",
        "    self.__side = side\n",
        "    self.__name = name\n",
        "\n",
        "  def display(self):\n",
        "    print(f\"The shape of a {self.__name} has {self.__side} sides.\")\n",
        "\n",
        "class Triangle(Shapes):\n",
        "  pass\n",
        "class Square(Shapes):\n",
        "  pass\n",
        "class Rectangle(Shapes):\n",
        "  pass\n",
        "class Pentahedron(Shapes):\n",
        "  pass\n",
        "class Hexahedron(Shapes):\n",
        "  pass\n",
        "\n",
        "triangle = Shapes(\"Triangle\", 3)\n",
        "Shapes.sides = 4\n",
        "triangle.display()\n",
        "\n",
        "square = Shapes(\"Square\", 4)\n",
        "Shapes.sides = 5\n",
        "square.display()\n",
        "\n",
        "rectangle = Shapes(\"Rectangle\", 4)\n",
        "Shapes.sides = 6\n",
        "rectangle.display()\n",
        "\n",
        "pentahedron = Shapes(\"Pentahedron\", 5)\n",
        "Shapes.sides = 7\n",
        "pentahedron.display()\n",
        "\n",
        "hexahedron = Shapes(\"Hexahedron\", 6)\n",
        "Shapes.sides = 1\n",
        "hexahedron.display()"
      ],
      "metadata": {
        "colab": {
          "base_uri": "https://localhost:8080/"
        },
        "id": "U01w5bBPg079",
        "outputId": "dd421166-8ff2-4d51-f0cb-a0352835e24b"
      },
      "execution_count": 53,
      "outputs": [
        {
          "output_type": "stream",
          "name": "stdout",
          "text": [
            "The shape of a Triangle has 3 sides.\n",
            "The shape of a Square has 4 sides.\n",
            "The shape of a Rectangle has 4 sides.\n",
            "The shape of a Pentahedron has 5 sides.\n",
            "The shape of a Hexahedron has 6 sides.\n"
          ]
        }
      ]
    }
  ]
}
