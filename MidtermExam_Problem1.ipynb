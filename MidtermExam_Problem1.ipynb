{
  "nbformat": 4,
  "nbformat_minor": 0,
  "metadata": {
    "colab": {
      "provenance": [],
      "authorship_tag": "ABX9TyPinES637OoGgR1ZJMjNuLl",
      "include_colab_link": true
    },
    "kernelspec": {
      "name": "python3",
      "display_name": "Python 3"
    },
    "language_info": {
      "name": "python"
    }
  },
  "cells": [
    {
      "cell_type": "markdown",
      "metadata": {
        "id": "view-in-github",
        "colab_type": "text"
      },
      "source": [
        "<a href=\"https://colab.research.google.com/github/De-Las-Alas/OOP-58001/blob/main/MidtermExam_Problem1.ipynb\" target=\"_parent\"><img src=\"https://colab.research.google.com/assets/colab-badge.svg\" alt=\"Open In Colab\"/></a>"
      ]
    },
    {
      "cell_type": "markdown",
      "source": [
        "General Instruction: Read first the instructions carefully. All Python programs must be kept and uploaded into GitHub as \"Midterm Exam\" for example, Midterm Exam Problem 1 and send the link of your program here. \n",
        "\n",
        "\n",
        "\n",
        "Computing Problem 1. Write a Python class named Circle constructed from a radius or a diameter and two methods that will compute the area and the perimeter of a circle. (Note: The measurement should come from user input)"
      ],
      "metadata": {
        "id": "HL3D4467DQQm"
      }
    },
    {
      "cell_type": "code",
      "execution_count": 1,
      "metadata": {
        "colab": {
          "base_uri": "https://localhost:8080/"
        },
        "id": "tY0yf1gfDIW0",
        "outputId": "6996a0ed-5546-4948-b165-5e1502001495"
      },
      "outputs": [
        {
          "output_type": "stream",
          "name": "stdout",
          "text": [
            "Enter a radius: 50\n",
            "The area of the circle with a radius of 50 is, 7850.0, and the its perimeter is, 314.0.\n"
          ]
        }
      ],
      "source": [
        "class Circle:\n",
        "  def __init__(self,radius):\n",
        "    self._radius = radius\n",
        "\n",
        "  def area(self):\n",
        "    return 3.14*(self._radius**2)\n",
        "\n",
        "  def perimeter(self):\n",
        "    return 2*(3.14*self._radius)\n",
        "\n",
        "  def display(self):\n",
        "    print(f\"The area of the circle with a radius of {self._radius} is, {self.area()}, and the its perimeter is, {self.perimeter()}.\")\n",
        "\n",
        "circle = Circle(int(input(\"Enter a radius: \"))) #input\n",
        "circle.display()"
      ]
    }
  ]
}