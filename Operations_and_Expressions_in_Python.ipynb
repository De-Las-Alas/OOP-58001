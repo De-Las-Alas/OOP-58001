{
  "nbformat": 4,
  "nbformat_minor": 0,
  "metadata": {
    "colab": {
      "provenance": [],
      "authorship_tag": "ABX9TyPZTUMwL97TMRYGxyJnCo8Q",
      "include_colab_link": true
    },
    "kernelspec": {
      "name": "python3",
      "display_name": "Python 3"
    },
    "language_info": {
      "name": "python"
    }
  },
  "cells": [
    {
      "cell_type": "markdown",
      "metadata": {
        "id": "view-in-github",
        "colab_type": "text"
      },
      "source": [
        "<a href=\"https://colab.research.google.com/github/De-Las-Alas/OOP-58001/blob/main/Operations_and_Expressions_in_Python.ipynb\" target=\"_parent\"><img src=\"https://colab.research.google.com/assets/colab-badge.svg\" alt=\"Open In Colab\"/></a>"
      ]
    },
    {
      "cell_type": "markdown",
      "source": [
        "Boolean Operations/Operators"
      ],
      "metadata": {
        "id": "6076_mWtTLW4"
      }
    },
    {
      "cell_type": "code",
      "source": [
        "print(10 > 9)\n",
        "print(10 == 9)\n",
        "print(10 < 9)"
      ],
      "metadata": {
        "colab": {
          "base_uri": "https://localhost:8080/"
        },
        "id": "zstd3kF5TNew",
        "outputId": "0ea727bc-da0f-4d16-81e7-4b0b629c4c5c"
      },
      "execution_count": null,
      "outputs": [
        {
          "output_type": "stream",
          "name": "stdout",
          "text": [
            "True\n",
            "False\n",
            "False\n"
          ]
        }
      ]
    },
    {
      "cell_type": "markdown",
      "source": [
        "Bool() Function"
      ],
      "metadata": {
        "id": "5Cfb9c6YTf9t"
      }
    },
    {
      "cell_type": "code",
      "source": [
        "#bool()function allows evalutaion of any value, and gives True or False in return\n",
        "print(bool(\"Hello\"))\n",
        "print(bool(1))\n",
        "#almost any value within the function is evaluated as true even if just given some sort of content, as long as it's not empty\n",
        "print(bool(0))\n",
        "print(bool(None))\n",
        "print(bool(True))\n",
        "print(bool(False))"
      ],
      "metadata": {
        "colab": {
          "base_uri": "https://localhost:8080/"
        },
        "id": "07NdW2oHTi3d",
        "outputId": "ebff7b9c-8009-434a-b7d4-02e94ea77b92"
      },
      "execution_count": null,
      "outputs": [
        {
          "output_type": "stream",
          "name": "stdout",
          "text": [
            "True\n",
            "True\n",
            "False\n",
            "False\n",
            "True\n",
            "False\n"
          ]
        }
      ]
    },
    {
      "cell_type": "markdown",
      "source": [
        "Funtions can Return a Boolean"
      ],
      "metadata": {
        "id": "y_pKlMPOVQAJ"
      }
    },
    {
      "cell_type": "code",
      "source": [
        "def myFunction(): #the funtion\n",
        "  return True #returns a bolean that's set as true\n",
        "\n",
        "print(myFunction()) #when the funtion is printed it will instead return the boolean\n",
        "\n",
        "#execute code based on the Boolean answer of a function\n",
        "if myFunction():\n",
        "  print(\"Yes\")\n",
        "else:\n",
        "  print(\"No\")"
      ],
      "metadata": {
        "colab": {
          "base_uri": "https://localhost:8080/"
        },
        "id": "BchVmwKkVUCQ",
        "outputId": "1e82c004-bf59-4b3e-ba17-b06c6ea9bf81"
      },
      "execution_count": null,
      "outputs": [
        {
          "output_type": "stream",
          "name": "stdout",
          "text": [
            "True\n",
            "Yes\n"
          ]
        }
      ]
    },
    {
      "cell_type": "markdown",
      "source": [
        "YOU TRY"
      ],
      "metadata": {
        "id": "w04qVg6xXStH"
      }
    },
    {
      "cell_type": "code",
      "source": [
        "print(10>9)\n",
        "a = 6\n",
        "b = 7\n",
        "print(a==b)\n",
        "print(a!=a)"
      ],
      "metadata": {
        "colab": {
          "base_uri": "https://localhost:8080/"
        },
        "id": "s75EnLi7XU6V",
        "outputId": "401510b9-2e46-46c1-976c-1a892e10dc28"
      },
      "execution_count": null,
      "outputs": [
        {
          "output_type": "stream",
          "name": "stdout",
          "text": [
            "True\n",
            "False\n",
            "False\n"
          ]
        }
      ]
    },
    {
      "cell_type": "markdown",
      "source": [
        "Python Operators"
      ],
      "metadata": {
        "id": "jkVZXt3uXuha"
      }
    },
    {
      "cell_type": "code",
      "source": [
        "print(10+5) #add\n",
        "print(10-5) #subtract\n",
        "print(10*5) #multiply\n",
        "print(10/5) #divide\n",
        "print(10%5) #remainder\n",
        "print(10//3) #integer\n",
        "print(10**2) #exponent"
      ],
      "metadata": {
        "colab": {
          "base_uri": "https://localhost:8080/"
        },
        "id": "5HIL3lVwXxUS",
        "outputId": "a925f748-ca34-4a25-a3b5-dd57cd11ea2e"
      },
      "execution_count": null,
      "outputs": [
        {
          "output_type": "stream",
          "name": "stdout",
          "text": [
            "15\n",
            "5\n",
            "50\n",
            "2.0\n",
            "0\n",
            "3\n",
            "100\n"
          ]
        }
      ]
    },
    {
      "cell_type": "markdown",
      "source": [
        "Python Bitwise Operators"
      ],
      "metadata": {
        "id": "IUPiVGH8ZpAx"
      }
    },
    {
      "cell_type": "code",
      "source": [
        "a = 60\n",
        "b = 13\n",
        "\n",
        "a>>1 #<< or | or -"
      ],
      "metadata": {
        "colab": {
          "base_uri": "https://localhost:8080/"
        },
        "id": "3t5p_HEgZrmW",
        "outputId": "469cb5ac-4152-41ed-de0f-04be23fdbbdb"
      },
      "execution_count": null,
      "outputs": [
        {
          "output_type": "execute_result",
          "data": {
            "text/plain": [
              "30"
            ]
          },
          "metadata": {},
          "execution_count": 23
        }
      ]
    },
    {
      "cell_type": "markdown",
      "source": [
        "Python Assignment Operators"
      ],
      "metadata": {
        "id": "Rvk9DdA0g9pS"
      }
    },
    {
      "cell_type": "code",
      "source": [
        "x = 5\n",
        "x += 3 #same as x = x+3\n",
        "print(x)\n",
        "x -= 3 #same as x = x-3\n",
        "print(x)\n",
        "x *= 3 #same as x = x*3\n",
        "print(x)\n",
        "x /= 3 #same as x = x/3\n",
        "print(x)\n",
        "x %= 3 #same as x = x%3\n",
        "print(x)"
      ],
      "metadata": {
        "colab": {
          "base_uri": "https://localhost:8080/"
        },
        "id": "Nd2EAv6uhAL5",
        "outputId": "36d59fbd-57a5-4390-f171-29e40dc2bfe0"
      },
      "execution_count": null,
      "outputs": [
        {
          "output_type": "stream",
          "name": "stdout",
          "text": [
            "8\n",
            "5\n",
            "15\n",
            "5.0\n",
            "2.0\n"
          ]
        }
      ]
    },
    {
      "cell_type": "markdown",
      "source": [
        "Logical Operators"
      ],
      "metadata": {
        "id": "ktBGGNMFjI9K"
      }
    },
    {
      "cell_type": "code",
      "source": [
        "#and, or, xor, not\n",
        "\n",
        "a = True\n",
        "b = False\n",
        "\n",
        "print(not a)\n",
        "print(a and b)\n",
        "print(a or b)\n",
        "print(not(a and b))"
      ],
      "metadata": {
        "colab": {
          "base_uri": "https://localhost:8080/"
        },
        "id": "m-ffXJLqjKk7",
        "outputId": "c99deeff-6912-44ce-8103-500baa073dff"
      },
      "execution_count": null,
      "outputs": [
        {
          "output_type": "stream",
          "name": "stdout",
          "text": [
            "False\n",
            "False\n",
            "True\n",
            "True\n"
          ]
        }
      ]
    },
    {
      "cell_type": "markdown",
      "source": [
        "Identity Operators"
      ],
      "metadata": {
        "id": "_Kd4Jutqj8rK"
      }
    },
    {
      "cell_type": "code",
      "source": [
        "a = True\n",
        "b = False\n",
        "c = a & b\n",
        "\n",
        "print(a is a)\n",
        "print(a is not b)\n",
        "print(b is b)\n",
        "print(b is not a)\n",
        "print(a is b)\n",
        "print(a is not a)\n",
        "print(b is a)\n",
        "print(b is not b)\n",
        "print(a is c)\n",
        "print(a is not c)\n",
        "print(b is c)\n",
        "print(b is not c)\n",
        "print(c is c)"
      ],
      "metadata": {
        "colab": {
          "base_uri": "https://localhost:8080/"
        },
        "id": "8YeckOAKj-pB",
        "outputId": "973abf37-9b18-402e-f14e-90970653f226"
      },
      "execution_count": null,
      "outputs": [
        {
          "output_type": "stream",
          "name": "stdout",
          "text": [
            "True\n",
            "True\n",
            "True\n",
            "True\n",
            "False\n",
            "False\n",
            "False\n",
            "False\n",
            "False\n",
            "True\n",
            "True\n",
            "False\n",
            "True\n"
          ]
        }
      ]
    }
  ]
}