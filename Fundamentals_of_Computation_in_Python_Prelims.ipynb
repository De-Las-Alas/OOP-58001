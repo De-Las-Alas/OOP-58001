{
  "nbformat": 4,
  "nbformat_minor": 0,
  "metadata": {
    "colab": {
      "provenance": [],
      "authorship_tag": "ABX9TyPn2Lmntxq7ucLurb9/BabD",
      "include_colab_link": true
    },
    "kernelspec": {
      "name": "python3",
      "display_name": "Python 3"
    },
    "language_info": {
      "name": "python"
    }
  },
  "cells": [
    {
      "cell_type": "markdown",
      "metadata": {
        "id": "view-in-github",
        "colab_type": "text"
      },
      "source": [
        "<a href=\"https://colab.research.google.com/github/De-Las-Alas/OOP-58001/blob/main/Fundamentals_of_Computation_in_Python.ipynb\" target=\"_parent\"><img src=\"https://colab.research.google.com/assets/colab-badge.svg\" alt=\"Open In Colab\"/></a>"
      ]
    },
    {
      "cell_type": "markdown",
      "source": [],
      "metadata": {
        "id": "kvYWfvsEKjJm"
      }
    },
    {
      "cell_type": "markdown",
      "source": [
        "Variables - Python Variable is containers which store values.Python is not “statically typed”. We do not need todeclare variables before using them or declare theirtype. A variable is created the moment we first assigna value to it. A Python variable is a name given to amemory location."
      ],
      "metadata": {
        "id": "YEfIenUwKwiT"
      }
    },
    {
      "cell_type": "markdown",
      "source": [
        "Data Types - Data types are the classification or categorization ofknowledge items. It represents the type useful thattells what operations are often performed on specificdata. Since everything is an object in Pythonprogramming, data types are classes and variables areinstances (object) of those classes."
      ],
      "metadata": {
        "id": "idyymSMiK1cu"
      }
    },
    {
      "cell_type": "code",
      "execution_count": 1,
      "metadata": {
        "id": "8nsrZ0VnJLMF"
      },
      "outputs": [],
      "source": [
        "#Numbers\n",
        "varNUM = 123\n",
        "pi = 3.14159\n",
        "#Strings\n",
        "varString = \"Hello World!\"\n",
        "varText = 'This is a string!'\n",
        "#Lists\n",
        "varList = [\"abc\", 123]\n",
        "#Tuples\n",
        "varTuple = [\"abc\", 123, \"HELLO\"]\n",
        "#Dictionaries\n",
        "var = 3\n",
        "varDict = {'first':1, \"2\":\"2nd\", 3:var}\n",
        "varDict = {}\n",
        "varDict['first'] = 1\n",
        "varDict[\"2\"] = \"2nd\"\n",
        "varDict[3] = var"
      ]
    },
    {
      "cell_type": "markdown",
      "source": [
        "Arithmetic"
      ],
      "metadata": {
        "id": "fI8ANeo9MWcY"
      }
    },
    {
      "cell_type": "code",
      "source": [
        "#addition\n",
        "a = 5 + 3\n",
        "#subtraction\n",
        "b = 5 - 3\n",
        "#multiplication\n",
        "c = 5 * 3\n",
        "#exponent\n",
        "d = 5 ** 3\n",
        "#division\n",
        "e = 5 / 3\n",
        "f = 5 % 3\n",
        "g = 5 // 3\n",
        "#increment/decrement\n",
        "h = 5\n",
        "h += 3\n",
        "i = 5\n",
        "i -= 3\n",
        "#string concatenation\n",
        "j = 'Hello' + \"World!\"\n",
        "#complex expressions\n",
        "k = 3 + 5 - 6 * 2 / 4"
      ],
      "metadata": {
        "id": "DxYiUmA9MX-u"
      },
      "execution_count": null,
      "outputs": []
    },
    {
      "cell_type": "markdown",
      "source": [
        "Functions"
      ],
      "metadata": {
        "id": "VITIlAAmOMEg"
      }
    },
    {
      "cell_type": "code",
      "source": [
        "pow(10,2)\n",
        "array = [\"apple\", \"banana\", \"orange\"]\n",
        "array.insert(0, \"cherry\")\n",
        "print(array)"
      ],
      "metadata": {
        "colab": {
          "base_uri": "https://localhost:8080/"
        },
        "id": "KJ6as9xyTXw5",
        "outputId": "e540a2a1-5c53-43ec-ce58-535f5dd947f4"
      },
      "execution_count": 22,
      "outputs": [
        {
          "output_type": "stream",
          "name": "stdout",
          "text": [
            "['cherry', 'apple', 'banana', 'orange']\n"
          ]
        }
      ]
    },
    {
      "cell_type": "code",
      "source": [
        "def remainder (n,m):\n",
        "  while True:\n",
        "    if n - m < 0:\n",
        "      return n\n",
        "    else:\n",
        "      n = n - m\n",
        "remainder (10,4)"
      ],
      "metadata": {
        "colab": {
          "base_uri": "https://localhost:8080/"
        },
        "id": "yNNEZ3FET1er",
        "outputId": "7e2e56fd-a106-40ce-84a9-f21f586d2d63"
      },
      "execution_count": 23,
      "outputs": [
        {
          "output_type": "execute_result",
          "data": {
            "text/plain": [
              "2"
            ]
          },
          "metadata": {},
          "execution_count": 23
        }
      ]
    },
    {
      "cell_type": "code",
      "source": [
        "class shapes:\n",
        "  def __init__(self,length,width):\n",
        "    self.length = length\n",
        "    self.width = width\n",
        "  def area(self):\n",
        "    return self.length * self.width\n",
        "rectangle = shapes(10,5)\n",
        "rectangle.area()"
      ],
      "metadata": {
        "colab": {
          "base_uri": "https://localhost:8080/"
        },
        "id": "jcgiSbeZN9Vg",
        "outputId": "73bf0b4c-76b5-48ef-8831-0c3b8be0805e"
      },
      "execution_count": 11,
      "outputs": [
        {
          "output_type": "execute_result",
          "data": {
            "text/plain": [
              "50"
            ]
          },
          "metadata": {},
          "execution_count": 11
        }
      ]
    },
    {
      "cell_type": "code",
      "source": [
        "class shapes:\n",
        "  def __init__(self,side):\n",
        "    self.side = side\n",
        "  def arearec(self):\n",
        "    return self.length * self.width\n",
        "  def areasqr(self):\n",
        "    return self.side**2\n",
        "square = shapes(5)\n",
        "square.areasqr()"
      ],
      "metadata": {
        "colab": {
          "base_uri": "https://localhost:8080/"
        },
        "id": "_5m6OwLkPU92",
        "outputId": "3f5a5b50-e1c4-4079-d719-1b9ce3dbaca1"
      },
      "execution_count": 12,
      "outputs": [
        {
          "output_type": "execute_result",
          "data": {
            "text/plain": [
              "25"
            ]
          },
          "metadata": {},
          "execution_count": 12
        }
      ]
    },
    {
      "cell_type": "markdown",
      "source": [
        "Create your own function that will show your name and age.\n",
        "Use  person as a class name"
      ],
      "metadata": {
        "id": "xE6kYFgCQ-2x"
      }
    },
    {
      "cell_type": "code",
      "source": [
        "class person:\n",
        "  def __init__(self,name,age):\n",
        "    self.name = name\n",
        "    self.age = age\n",
        "  def name_age(self):\n",
        "    return self.name + self.age\n",
        "\n",
        "individual = person(\"Reuben Jonn De Las Alas, \", \"20 yrs old.\")\n",
        "individual.name_age()"
      ],
      "metadata": {
        "colab": {
          "base_uri": "https://localhost:8080/",
          "height": 35
        },
        "id": "bZyAfjjEPuSd",
        "outputId": "0ad76c83-fa1e-4110-cbd2-06cc5a1db7e3"
      },
      "execution_count": 21,
      "outputs": [
        {
          "output_type": "execute_result",
          "data": {
            "text/plain": [
              "'Reuben Jonn De Las Alas, 20 yrs old.'"
            ],
            "application/vnd.google.colaboratory.intrinsic+json": {
              "type": "string"
            }
          },
          "metadata": {},
          "execution_count": 21
        }
      ]
    },
    {
      "cell_type": "markdown",
      "source": [
        "Lists"
      ],
      "metadata": {
        "id": "VxKG0p2eUtE1"
      }
    },
    {
      "cell_type": "code",
      "source": [
        "pi = 3.14159\n",
        "varList = [1, 2, 'A', \"b\", 'Hello!', pi]\n",
        "print(varList[0])\n",
        "\n",
        "print(varList[4])\n",
        "\n",
        "varList.append(\"World!\")\n",
        "print(varList[6])\n",
        "\n",
        "len(varList)"
      ],
      "metadata": {
        "colab": {
          "base_uri": "https://localhost:8080/"
        },
        "id": "9PDdExqRVAtl",
        "outputId": "7e0f1f93-ccdd-4cb5-af28-118f3bc02e8c"
      },
      "execution_count": 29,
      "outputs": [
        {
          "output_type": "stream",
          "name": "stdout",
          "text": [
            "1\n",
            "Hello!\n",
            "World!\n"
          ]
        },
        {
          "output_type": "execute_result",
          "data": {
            "text/plain": [
              "7"
            ]
          },
          "metadata": {},
          "execution_count": 29
        }
      ]
    },
    {
      "cell_type": "code",
      "source": [
        "pi = 3.14159\n",
        "varList = [1, 2, 'A', \"b\", 'Hello!', pi]\n",
        "print(varList[0])\n",
        "\n",
        "print(varList[4])\n",
        "\n",
        "varList.append(\"World!\")\n",
        "print(varList[6])\n",
        "\n",
        "print(varList[5])\n",
        "\n",
        "varList.remove(pi)\n",
        "print(varList[5])"
      ],
      "metadata": {
        "colab": {
          "base_uri": "https://localhost:8080/"
        },
        "id": "ncGXbmyDWMXx",
        "outputId": "c22d42f8-c17f-456d-be46-624a0be985f3"
      },
      "execution_count": 28,
      "outputs": [
        {
          "output_type": "stream",
          "name": "stdout",
          "text": [
            "1\n",
            "Hello!\n",
            "World!\n",
            "3.14159\n",
            "World!\n"
          ]
        }
      ]
    },
    {
      "cell_type": "code",
      "source": [
        "pi = 3.14159\n",
        "varList = [\"abc\", 1, \"def\", 2]\n",
        "print(varList[0])\n",
        "\n",
        "varList.append('gho')\n",
        "print(varList)\n",
        "\n",
        "varList.remove(2)\n",
        "print(varList)\n",
        "\n",
        "varList.insert(3,3)\n",
        "print(varList)"
      ],
      "metadata": {
        "colab": {
          "base_uri": "https://localhost:8080/"
        },
        "id": "7eoedt1jWcu5",
        "outputId": "3ae4bc9b-ae0d-4e82-bfff-47d0ee7caf79"
      },
      "execution_count": 30,
      "outputs": [
        {
          "output_type": "stream",
          "name": "stdout",
          "text": [
            "abc\n",
            "['abc', 1, 'def', 2, 'gho']\n",
            "['abc', 1, 'def', 'gho']\n",
            "['abc', 1, 'def', 3, 'gho']\n"
          ]
        }
      ]
    },
    {
      "cell_type": "markdown",
      "source": [
        "Dictionaries"
      ],
      "metadata": {
        "id": "DSkLRfEtW-TL"
      }
    },
    {
      "cell_type": "code",
      "source": [
        "students = {\n",
        "    1: \"Annie\",\n",
        "    2: \"Ruru\",\n",
        "    3: \"Reunette\",\n",
        "    4: \"Junette\"\n",
        "}\n",
        "print(students)"
      ],
      "metadata": {
        "colab": {
          "base_uri": "https://localhost:8080/"
        },
        "id": "-9_H1q10W_fy",
        "outputId": "cd933380-a693-469c-da24-67667960f6fe"
      },
      "execution_count": 31,
      "outputs": [
        {
          "output_type": "stream",
          "name": "stdout",
          "text": [
            "{1: 'Annie', 2: 'Ruru', 3: 'Reunette', 4: 'Junette'}\n"
          ]
        }
      ]
    },
    {
      "cell_type": "code",
      "source": [
        "#redunduncy\n",
        "students = {\n",
        "    1: \"Annie\",\n",
        "    2: \"Ruru\",\n",
        "    3: \"Reunette\",\n",
        "    4: \"Junette\",\n",
        "    3: \"Benette\"\n",
        "}\n",
        "print(students)"
      ],
      "metadata": {
        "colab": {
          "base_uri": "https://localhost:8080/"
        },
        "id": "rv4u2ZrsXehy",
        "outputId": "e81bbcae-d072-4f75-a599-f7dc75298fa6"
      },
      "execution_count": 32,
      "outputs": [
        {
          "output_type": "stream",
          "name": "stdout",
          "text": [
            "{1: 'Annie', 2: 'Ruru', 3: 'Benette', 4: 'Junette'}\n"
          ]
        }
      ]
    }
  ]
}
